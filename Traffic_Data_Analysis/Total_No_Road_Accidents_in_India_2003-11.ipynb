{
 "cells": [
  {
   "cell_type": "code",
   "execution_count": 79,
   "metadata": {},
   "outputs": [],
   "source": [
    "# Importing Libraries\n",
    "import pandas as pd\n",
    "import numpy as np\n",
    "import matplotlib.pyplot as plt\n",
    "%matplotlib inline\n",
    "pd.set_option('display.max_rows',15)"
   ]
  },
  {
   "cell_type": "code",
   "execution_count": 80,
   "metadata": {
    "scrolled": true
   },
   "outputs": [
    {
     "data": {
      "text/html": [
       "<div>\n",
       "<style scoped>\n",
       "    .dataframe tbody tr th:only-of-type {\n",
       "        vertical-align: middle;\n",
       "    }\n",
       "\n",
       "    .dataframe tbody tr th {\n",
       "        vertical-align: top;\n",
       "    }\n",
       "\n",
       "    .dataframe thead th {\n",
       "        text-align: right;\n",
       "    }\n",
       "</style>\n",
       "<table border=\"1\" class=\"dataframe\">\n",
       "  <thead>\n",
       "    <tr style=\"text-align: right;\">\n",
       "      <th></th>\n",
       "      <th>2003</th>\n",
       "      <th>2004</th>\n",
       "      <th>2005</th>\n",
       "      <th>2006</th>\n",
       "      <th>2007</th>\n",
       "      <th>2008</th>\n",
       "      <th>2009</th>\n",
       "      <th>2010</th>\n",
       "      <th>2011</th>\n",
       "    </tr>\n",
       "    <tr>\n",
       "      <th>States_UTs</th>\n",
       "      <th></th>\n",
       "      <th></th>\n",
       "      <th></th>\n",
       "      <th></th>\n",
       "      <th></th>\n",
       "      <th></th>\n",
       "      <th></th>\n",
       "      <th></th>\n",
       "      <th></th>\n",
       "    </tr>\n",
       "  </thead>\n",
       "  <tbody>\n",
       "    <tr>\n",
       "      <th>AndhraPradesh</th>\n",
       "      <td>34,826</td>\n",
       "      <td>38,940</td>\n",
       "      <td>37,131</td>\n",
       "      <td>43,559</td>\n",
       "      <td>44,325</td>\n",
       "      <td>42,657</td>\n",
       "      <td>43,600</td>\n",
       "      <td>44,599</td>\n",
       "      <td>44,165</td>\n",
       "    </tr>\n",
       "    <tr>\n",
       "      <th>ArunachalPradesh</th>\n",
       "      <td>245</td>\n",
       "      <td>241</td>\n",
       "      <td>231</td>\n",
       "      <td>250</td>\n",
       "      <td>240</td>\n",
       "      <td>280</td>\n",
       "      <td>306</td>\n",
       "      <td>293</td>\n",
       "      <td>263</td>\n",
       "    </tr>\n",
       "    <tr>\n",
       "      <th>Assam</th>\n",
       "      <td>3,262</td>\n",
       "      <td>3,688</td>\n",
       "      <td>4,258</td>\n",
       "      <td>4,694</td>\n",
       "      <td>4,403</td>\n",
       "      <td>4,683</td>\n",
       "      <td>4,869</td>\n",
       "      <td>5,828</td>\n",
       "      <td>6,569</td>\n",
       "    </tr>\n",
       "    <tr>\n",
       "      <th>Bihar</th>\n",
       "      <td>6,141</td>\n",
       "      <td>4,027</td>\n",
       "      <td>3,768</td>\n",
       "      <td>5,594</td>\n",
       "      <td>7,774</td>\n",
       "      <td>8,991</td>\n",
       "      <td>10,065</td>\n",
       "      <td>11,033</td>\n",
       "      <td>10,673</td>\n",
       "    </tr>\n",
       "    <tr>\n",
       "      <th>Chhattisgarh</th>\n",
       "      <td>10,521</td>\n",
       "      <td>10,600</td>\n",
       "      <td>11,164</td>\n",
       "      <td>11,934</td>\n",
       "      <td>12,296</td>\n",
       "      <td>12,945</td>\n",
       "      <td>12,888</td>\n",
       "      <td>13,664</td>\n",
       "      <td>14,108</td>\n",
       "    </tr>\n",
       "  </tbody>\n",
       "</table>\n",
       "</div>"
      ],
      "text/plain": [
       "                    2003    2004    2005    2006    2007    2008    2009  \\\n",
       "States_UTs                                                                 \n",
       "AndhraPradesh     34,826  38,940  37,131  43,559  44,325  42,657  43,600   \n",
       "ArunachalPradesh     245     241     231     250     240     280     306   \n",
       "Assam              3,262   3,688   4,258   4,694   4,403   4,683   4,869   \n",
       "Bihar              6,141   4,027   3,768   5,594   7,774   8,991  10,065   \n",
       "Chhattisgarh      10,521  10,600  11,164  11,934  12,296  12,945  12,888   \n",
       "\n",
       "                    2010    2011  \n",
       "States_UTs                        \n",
       "AndhraPradesh     44,599  44,165  \n",
       "ArunachalPradesh     293     263  \n",
       "Assam              5,828   6,569  \n",
       "Bihar             11,033  10,673  \n",
       "Chhattisgarh      13,664  14,108  "
      ]
     },
     "execution_count": 80,
     "metadata": {},
     "output_type": "execute_result"
    }
   ],
   "source": [
    "total_road_accident = pd.read_csv('Total_No_Road_Accidents_in_India_2003-11_1.csv')\n",
    "total_road_accident.set_index('States_UTs', inplace=True) # making state as index\n",
    "total_road_accident= total_road_accident.drop(columns='Sl_No') # deleting col name Sl_No\n",
    "total_road_accident.head()"
   ]
  },
  {
   "cell_type": "code",
   "execution_count": 81,
   "metadata": {},
   "outputs": [],
   "source": [
    "#total_road_accident[['2003','2004']]\n",
    "#x = total_road_accident.index[0:4]\n",
    "#y = total_road_accident[['2003','2004']][0:4]\n",
    "#print(x)\n",
    "#print(y)\n",
    "#fig, ax = plt.subplots()\n",
    "#ax.barh( x,y)"
   ]
  },
  {
   "cell_type": "code",
   "execution_count": 82,
   "metadata": {},
   "outputs": [],
   "source": [
    "#total = total_road_accident[total_road_accident['States_UTs'] == 'AllIndia']\n",
    "#total\n",
    "#plt.plot(total)"
   ]
  },
  {
   "cell_type": "code",
   "execution_count": 88,
   "metadata": {},
   "outputs": [
    {
     "data": {
      "image/png": "[encoded data removed]",
      "text/plain": [
       "<Figure size 432x288 with 1 Axes>"
      ]
     },
     "metadata": {
      "needs_background": "light"
     },
     "output_type": "display_data"
    }
   ],
   "source": [
    "fig, ax = plt.subplots()\n",
    "ax.barh(['XYZ', 'ABC', 'PQR', 'STU'], [30000,38000,36000,11000])\n",
    "plt.show()"
   ]
  },
  {
   "cell_type": "code",
   "execution_count": null,
   "metadata": {},
   "outputs": [],
   "source": []
  },
  {
   "cell_type": "code",
   "execution_count": null,
   "metadata": {},
   "outputs": [],
   "source": []
  },
  {
   "cell_type": "code",
   "execution_count": null,
   "metadata": {},
   "outputs": [],
   "source": []
  }
 ],
 "metadata": {
  "kernelspec": {
   "display_name": "Python 3",
   "language": "python",
   "name": "python3"
  },
  "language_info": {
   "codemirror_mode": {
    "name": "ipython",
    "version": 3
   },
   "file_extension": ".py",
   "mimetype": "text/x-python",
   "name": "python",
   "nbconvert_exporter": "python",
   "pygments_lexer": "ipython3",
   "version": "3.7.3"
  }
 },
 "nbformat": 4,
 "nbformat_minor": 2
}
